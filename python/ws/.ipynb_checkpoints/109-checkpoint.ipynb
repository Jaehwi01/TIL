{
 "cells": [
  {
   "cell_type": "code",
   "execution_count": 33,
   "metadata": {},
   "outputs": [
    {
     "name": "stdout",
     "output_type": "stream",
     "text": [
      "1.3747562500000001\n",
      "1.5625\n"
     ]
    }
   ],
   "source": [
    "a= 1.1725**2\n",
    "b= 1.25**2\n",
    "print(a)\n",
    "print(b)"
   ]
  },
  {
   "cell_type": "code",
   "execution_count": 50,
   "metadata": {},
   "outputs": [],
   "source": [
    "def my_sqrt(x):\n",
    "    x, y = 1, n  #목적 제곱근은 1-n사이에 항상존재.\n",
    "    result = 1\n",
    "    \n",
    "    while abs(result**2 - n)>0.0001:  #차가 0.0001 보다낮을때 종료\n",
    "        result = (x+y)/2\n",
    "        if result **2<n:\n",
    "            x-result\n",
    "        else:\n",
    "            y=result\n",
    "            \n",
    "    return result\n",
    "    \n",
    "    \n",
    "    \n",
    "    \n",
    "    \n",
    "    \n",
    "#     a = 1+c\n",
    "#     b = 2+c\n",
    "#     c = 0.5  \n",
    "#         if a**2 < x:\n",
    "#             return a=1+2/c\n",
    "#             return c=2/c\n",
    "#         if b**2 > x:\n",
    "           "
   ]
  },
  {
   "cell_type": "code",
   "execution_count": 49,
   "metadata": {},
   "outputs": [
    {
     "name": "stdout",
     "output_type": "stream",
     "text": [
      "1.1837440000000001\n"
     ]
    }
   ],
   "source": [
    "a= 1.088**2\n",
    "print(a)"
   ]
  },
  {
   "cell_type": "code",
   "execution_count": null,
   "metadata": {},
   "outputs": [],
   "source": []
  }
 ],
 "metadata": {
  "kernelspec": {
   "display_name": "Python 3",
   "language": "python",
   "name": "python3"
  },
  "language_info": {
   "codemirror_mode": {
    "name": "ipython",
    "version": 3
   },
   "file_extension": ".py",
   "mimetype": "text/x-python",
   "name": "python",
   "nbconvert_exporter": "python",
   "pygments_lexer": "ipython3",
   "version": "3.7.1"
  }
 },
 "nbformat": 4,
 "nbformat_minor": 2
}
