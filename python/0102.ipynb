{
 "cells": [
  {
   "cell_type": "code",
   "execution_count": 82,
   "metadata": {},
   "outputs": [
    {
     "name": "stdout",
     "output_type": "stream",
     "text": [
      "*****\n",
      "*****\n",
      "*****\n",
      "*****\n",
      "*****\n",
      "*****\n",
      "*****\n",
      "*****\n",
      "*****\n",
      "\n"
     ]
    }
   ],
   "source": [
    "n=5\n",
    "m=9\n",
    "print(('*'*n + '\\n')*m)"
   ]
  },
  {
   "cell_type": "code",
   "execution_count": 92,
   "metadata": {},
   "outputs": [
    {
     "name": "stdout",
     "output_type": "stream",
     "text": [
      "87.75\n"
     ]
    }
   ],
   "source": [
    "student = {'python': 80,'algorithm': 99, 'django': 89, 'flask': 83}\n",
    "print(sum(student.values())/ len(student))"
   ]
  },
  {
   "cell_type": "code",
   "execution_count": 97,
   "metadata": {},
   "outputs": [
    {
     "name": "stdout",
     "output_type": "stream",
     "text": [
      "A형 :   3\n",
      "B형 :   3\n",
      "AB형 :   3\n",
      "O형 :   3\n"
     ]
    }
   ],
   "source": [
    "blood_types = ['a', 'b', 'a', 'o', 'ab', 'ab', 'o', 'a', 'b', 'o', 'b', 'ab']\n",
    "\n",
    "print('A형 :  ' , blood_types.count('a'))\n",
    "print('B형 :  ' , blood_types.count('b'))\n",
    "print('AB형 :  ' , blood_types.count('ab'))\n",
    "print('O형 :  ' , blood_types.count('o'))"
   ]
  },
  {
   "cell_type": "code",
   "execution_count": 105,
   "metadata": {},
   "outputs": [
    {
     "name": "stdout",
     "output_type": "stream",
     "text": [
      "{'a': 3, 'b': 3, 'o': 3, 'ab': 3}\n"
     ]
    }
   ],
   "source": [
    "blood_types = ['a', 'b', 'a', 'o', 'ab', 'ab', 'o', 'a', 'b', 'o', 'b', 'ab']\n",
    "\n",
    "result = {}\n",
    "for blood_type in blood_types:\n",
    "    if blood_type in result:\n",
    "        result[blood_type] += 1\n",
    "    else :\n",
    "        result[blood_type] =1\n",
    "print(result)"
   ]
  },
  {
   "cell_type": "code",
   "execution_count": null,
   "metadata": {},
   "outputs": [],
   "source": []
  }
 ],
 "metadata": {
  "kernelspec": {
   "display_name": "Python 3",
   "language": "python",
   "name": "python3"
  },
  "language_info": {
   "codemirror_mode": {
    "name": "ipython",
    "version": 3
   },
   "file_extension": ".py",
   "mimetype": "text/x-python",
   "name": "python",
   "nbconvert_exporter": "python",
   "pygments_lexer": "ipython3",
   "version": "3.7.1"
  }
 },
 "nbformat": 4,
 "nbformat_minor": 2
}
