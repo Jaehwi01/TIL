{
 "cells": [
  {
   "cell_type": "code",
   "execution_count": 11,
   "metadata": {},
   "outputs": [],
   "source": [
    "class Word:\n",
    "    def __init__(self):\n",
    "        self.wordbook={}\n",
    "    def add(self,en,ko):\n",
    "        self.wordbook[en]=ko\n",
    "    def delete(self,en):\n",
    "        if en in self.wordbook:\n",
    "            self.wordbook.pop(en)\n",
    "            return True\n",
    "        else:\n",
    "            return False\n",
    "    def print(self):\n",
    "        for en, ko in self.wordbook.items():\n",
    "            print(f'{en}:{ko}')\n",
    "        "
   ]
  },
  {
   "cell_type": "code",
   "execution_count": 13,
   "metadata": {},
   "outputs": [
    {
     "name": "stdout",
     "output_type": "stream",
     "text": [
      "apple:사과\n",
      "banana:바나나\n",
      "cherry:체리\n",
      "durian:두리안\n",
      "True\n",
      "True\n",
      "False\n",
      "apple:사과\n",
      "banana:바나나\n"
     ]
    }
   ],
   "source": [
    "my_book = Word()\n",
    "my_book.add('apple', '사과')\n",
    "my_book.add('banana', '바나나')\n",
    "my_book.add('cherry', '체리')\n",
    "my_book.add('durian', '두리안')\n",
    "my_book.print()\n",
    "print(my_book.delete('cherry'))\n",
    "print(my_book.delete('durian'))\n",
    "print(my_book.delete('egg'))\n",
    "my_book.print()"
   ]
  },
  {
   "cell_type": "code",
   "execution_count": 38,
   "metadata": {},
   "outputs": [],
   "source": [
    "class Point:\n",
    "    def __init__(self,x,y):\n",
    "        self.x=x\n",
    "        self.y=y\n",
    "class Rectangle:\n",
    "    def __init__(self,p1,p2):\n",
    "        self.p1=p1\n",
    "        self.p2=p2\n",
    "    def get_area(self):\n",
    "        return abs((self.p2.x-self.p1.x)*(self.p2.y-self.p1.y))\n",
    "    def get_perimeter(self):\n",
    "        return (self.p2.x-self.p1.x)*2+(self.p2.y-self.p2.y)*2\n",
    "    def is_square(self):\n",
    "        if self.p2.x-self.p1.x == self.p2.y-self.p1.y:\n",
    "            return True\n",
    "        else:  \n",
    "            return False"
   ]
  },
  {
   "cell_type": "code",
   "execution_count": 39,
   "metadata": {},
   "outputs": [
    {
     "name": "stdout",
     "output_type": "stream",
     "text": [
      "4\n",
      "4\n",
      "False\n",
      "12\n",
      "12\n",
      "False\n"
     ]
    }
   ],
   "source": [
    "p1 = Point(1, 3)\n",
    "p2 = Point(3, 1)\n",
    "r1 = Rectangle(p1, p2)\n",
    "print(r1.get_area())\n",
    "print(r1.get_perimeter())\n",
    "print(r1.is_square())\n",
    "p3 = Point(2, 5)\n",
    "p4 = Point(8, 3)\n",
    "r2 = Rectangle(p3, p4)\n",
    "print(r2.get_area())\n",
    "print(r2.get_perimeter())\n",
    "print(r2.is_square())"
   ]
  },
  {
   "cell_type": "code",
   "execution_count": 25,
   "metadata": {},
   "outputs": [
    {
     "data": {
      "text/plain": [
       "4"
      ]
     },
     "execution_count": 25,
     "metadata": {},
     "output_type": "execute_result"
    }
   ],
   "source": []
  },
  {
   "cell_type": "code",
   "execution_count": 103,
   "metadata": {},
   "outputs": [],
   "source": [
    "class Point:\n",
    "    def __init__(self, x,y):\n",
    "        self.x=x\n",
    "        self.y=y\n",
    "class Circle:\n",
    "    def __init__(self,center,r):\n",
    "        self.center=center\n",
    "        self.r=r\n",
    "    def __str__(self,a):\n",
    "        return f'이것은 문자로 표현한다. {self.a}'\n",
    "        \n",
    "    def get_area(self):\n",
    "        return self.r * self.r * 3.14\n",
    "    def get_perimeter(self):\n",
    "        return 2*3.14*self.r\n",
    "    def get_center(self):\n",
    "        return(self.center.x, self.center.y)\n",
    "    def print(self):\n",
    "        print(f'circle: ({self.center.x},{self.center.y}), r: {self.r}')\n",
    "    "
   ]
  },
  {
   "cell_type": "code",
   "execution_count": 108,
   "metadata": {},
   "outputs": [
    {
     "ename": "TypeError",
     "evalue": "__init__() missing 1 required positional argument: 'r'",
     "output_type": "error",
     "traceback": [
      "\u001b[1;31m---------------------------------------------------------------------------\u001b[0m",
      "\u001b[1;31mTypeError\u001b[0m                                 Traceback (most recent call last)",
      "\u001b[1;32m<ipython-input-108-30895f36fd9d>\u001b[0m in \u001b[0;36m<module>\u001b[1;34m\u001b[0m\n\u001b[0;32m      1\u001b[0m \u001b[0mp1\u001b[0m \u001b[1;33m=\u001b[0m \u001b[0mPoint\u001b[0m\u001b[1;33m(\u001b[0m\u001b[1;36m0\u001b[0m\u001b[1;33m,\u001b[0m \u001b[1;36m0\u001b[0m\u001b[1;33m)\u001b[0m\u001b[1;33m\u001b[0m\u001b[1;33m\u001b[0m\u001b[0m\n\u001b[0;32m      2\u001b[0m \u001b[0mc1\u001b[0m \u001b[1;33m=\u001b[0m \u001b[0mCircle\u001b[0m\u001b[1;33m(\u001b[0m\u001b[0mp1\u001b[0m\u001b[1;33m,\u001b[0m \u001b[1;36m3\u001b[0m\u001b[1;33m)\u001b[0m\u001b[1;33m\u001b[0m\u001b[1;33m\u001b[0m\u001b[0m\n\u001b[1;32m----> 3\u001b[1;33m \u001b[0mc4\u001b[0m \u001b[1;33m=\u001b[0m \u001b[0mCircle\u001b[0m\u001b[1;33m(\u001b[0m\u001b[1;34m\"hi\"\u001b[0m\u001b[1;33m)\u001b[0m\u001b[1;33m\u001b[0m\u001b[1;33m\u001b[0m\u001b[0m\n\u001b[0m\u001b[0;32m      4\u001b[0m \u001b[0mprint\u001b[0m\u001b[1;33m(\u001b[0m\u001b[0mc1\u001b[0m\u001b[1;33m.\u001b[0m\u001b[0mget_area\u001b[0m\u001b[1;33m(\u001b[0m\u001b[1;33m)\u001b[0m\u001b[1;33m)\u001b[0m\u001b[1;33m\u001b[0m\u001b[1;33m\u001b[0m\u001b[0m\n\u001b[0;32m      5\u001b[0m \u001b[0mprint\u001b[0m\u001b[1;33m(\u001b[0m\u001b[0mc1\u001b[0m\u001b[1;33m.\u001b[0m\u001b[0mget_perimeter\u001b[0m\u001b[1;33m(\u001b[0m\u001b[1;33m)\u001b[0m\u001b[1;33m)\u001b[0m\u001b[1;33m\u001b[0m\u001b[1;33m\u001b[0m\u001b[0m\n",
      "\u001b[1;31mTypeError\u001b[0m: __init__() missing 1 required positional argument: 'r'"
     ]
    }
   ],
   "source": [
    "p1 = Point(0, 0)\n",
    "c1 = Circle(p1, 3)\n",
    "c4 = Circle(\"hi\")\n",
    "print(c1.get_area())\n",
    "print(c1.get_perimeter())\n",
    "print(c1.get_center())\n",
    "c1.print()\n",
    "p2 = Point(4, 5)\n",
    "c2 = Circle(p2, 1)\n",
    "print(c2.get_area())\n",
    "print(c2.get_perimeter())\n",
    "print(c2.get_center())\n",
    "c2.print()\n",
    "print(c4)"
   ]
  },
  {
   "cell_type": "code",
   "execution_count": 64,
   "metadata": {},
   "outputs": [],
   "source": [
    "def shortcut(char):\n",
    "    target = 'aeiou'\n",
    "    result = ''\n",
    "    for x in char:\n",
    "        if x not in target:\n",
    "            result += x\n",
    "    return result\n",
    "            "
   ]
  },
  {
   "cell_type": "code",
   "execution_count": 65,
   "metadata": {},
   "outputs": [
    {
     "data": {
      "text/plain": [
       "'Lf s t shrt, y nd pythn'"
      ]
     },
     "execution_count": 65,
     "metadata": {},
     "output_type": "execute_result"
    }
   ],
   "source": [
    "shortcut(\"Life is too short, you need python\")"
   ]
  },
  {
   "cell_type": "code",
   "execution_count": 127,
   "metadata": {},
   "outputs": [
    {
     "data": {
      "text/plain": [
       "97"
      ]
     },
     "execution_count": 127,
     "metadata": {},
     "output_type": "execute_result"
    }
   ],
   "source": [
    "ord('a')"
   ]
  },
  {
   "cell_type": "code",
   "execution_count": 111,
   "metadata": {},
   "outputs": [
    {
     "data": {
      "text/plain": [
       "65"
      ]
     },
     "execution_count": 111,
     "metadata": {},
     "output_type": "execute_result"
    }
   ],
   "source": [
    "ord(\"A\")"
   ]
  },
  {
   "cell_type": "code",
   "execution_count": 149,
   "metadata": {},
   "outputs": [],
   "source": [
    "def cipher(word):\n",
    "    result = ''\n",
    "    n=32\n",
    "    for char in word:\n",
    "        if ord(char) >96:\n",
    "            a=ord(char)-n\n",
    "            result+=chr(a)\n",
    "        else:\n",
    "            b=ord(char)+n\n",
    "            result+=chr(b)\n",
    "    return result"
   ]
  },
  {
   "cell_type": "code",
   "execution_count": 150,
   "metadata": {},
   "outputs": [
    {
     "data": {
      "text/plain": [
       "'cROSs'"
      ]
     },
     "execution_count": 150,
     "metadata": {},
     "output_type": "execute_result"
    }
   ],
   "source": [
    "cipher('CrosS')"
   ]
  },
  {
   "cell_type": "code",
   "execution_count": 153,
   "metadata": {},
   "outputs": [],
   "source": [
    "class Point:\n",
    "    def __init__(self,x,y):\n",
    "        self.x=x\n",
    "        self.y=y\n",
    "class Circle:\n",
    "    \n",
    "    def __init__(self,center,r):\n",
    "        self.center=center\n",
    "        self.r=r\n",
    "    def get_area(self):\n",
    "        return self.r*self.r*3.14\n",
    "    def get_perimeter(self):\n",
    "        return 2*self.r*3.14\n",
    "    def get_center(self):\n",
    "        return f'{self.center.x,self.center.y}'\n",
    "    def print(self):\n",
    "        print(f'Circle: {self.center.x, self.center.y}, r={self.r}')\n",
    "        "
   ]
  },
  {
   "cell_type": "code",
   "execution_count": 154,
   "metadata": {},
   "outputs": [
    {
     "name": "stdout",
     "output_type": "stream",
     "text": [
      "28.26\n",
      "18.84\n",
      "(0, 0)\n",
      "Circle: (0, 0), r=3\n",
      "3.14\n",
      "6.28\n",
      "(4, 5)\n",
      "Circle: (4, 5), r=1\n"
     ]
    }
   ],
   "source": [
    "p1 = Point(0, 0)\n",
    "c1 = Circle(p1, 3)\n",
    "print(c1.get_area())\n",
    "print(c1.get_perimeter())\n",
    "print(c1.get_center())\n",
    "c1.print()\n",
    "p2 = Point(4, 5)\n",
    "c2 = Circle(p2, 1)\n",
    "print(c2.get_area())\n",
    "print(c2.get_perimeter())\n",
    "print(c2.get_center())\n",
    "c2.print()"
   ]
  },
  {
   "cell_type": "code",
   "execution_count": 160,
   "metadata": {},
   "outputs": [],
   "source": [
    "def delete(char):\n",
    "    target = 'aeiou'\n",
    "    result= ''\n",
    "    for x in char:\n",
    "        if x not in target:\n",
    "            result += x\n",
    "    return result"
   ]
  },
  {
   "cell_type": "code",
   "execution_count": 162,
   "metadata": {},
   "outputs": [
    {
     "data": {
      "text/plain": [
       "'llqcpnbbb'"
      ]
     },
     "execution_count": 162,
     "metadata": {},
     "output_type": "execute_result"
    }
   ],
   "source": [
    "delete('allqicpnaababab')"
   ]
  },
  {
   "cell_type": "code",
   "execution_count": 169,
   "metadata": {},
   "outputs": [],
   "source": [
    "def chip(char):\n",
    "    result =''\n",
    "    n=32\n",
    "    for x in char:\n",
    "        if ord(x) > 96:\n",
    "            a = ord(x)-n\n",
    "            result += chr(a)\n",
    "        else:\n",
    "            b = ord(x)+n\n",
    "            result +=chr(b)\n",
    "    return result\n"
   ]
  },
  {
   "cell_type": "code",
   "execution_count": 170,
   "metadata": {},
   "outputs": [
    {
     "data": {
      "text/plain": [
       "'SqkdSLCKSqt'"
      ]
     },
     "execution_count": 170,
     "metadata": {},
     "output_type": "execute_result"
    }
   ],
   "source": [
    "chip('sQKDslcksQT')"
   ]
  },
  {
   "cell_type": "code",
   "execution_count": null,
   "metadata": {},
   "outputs": [],
   "source": []
  }
 ],
 "metadata": {
  "kernelspec": {
   "display_name": "Python 3",
   "language": "python",
   "name": "python3"
  },
  "language_info": {
   "codemirror_mode": {
    "name": "ipython",
    "version": 3
   },
   "file_extension": ".py",
   "mimetype": "text/x-python",
   "name": "python",
   "nbconvert_exporter": "python",
   "pygments_lexer": "ipython3",
   "version": "3.7.1"
  }
 },
 "nbformat": 4,
 "nbformat_minor": 2
}
